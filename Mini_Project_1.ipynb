{
  "nbformat": 4,
  "nbformat_minor": 0,
  "metadata": {
    "colab": {
      "provenance": [],
      "authorship_tag": "ABX9TyNcU5DGjvYCBNxDys47kDBz",
      "include_colab_link": true
    },
    "kernelspec": {
      "name": "python3",
      "display_name": "Python 3"
    },
    "language_info": {
      "name": "python"
    }
  },
  "cells": [
    {
      "cell_type": "markdown",
      "metadata": {
        "id": "view-in-github",
        "colab_type": "text"
      },
      "source": [
        "<a href=\"https://colab.research.google.com/github/aashna03/ML-School-Projects/blob/main/Mini_Project_1.ipynb\" target=\"_parent\"><img src=\"https://colab.research.google.com/assets/colab-badge.svg\" alt=\"Open In Colab\"/></a>"
      ]
    },
    {
      "cell_type": "code",
      "execution_count": 1,
      "metadata": {
        "id": "UETznM3XepW4"
      },
      "outputs": [],
      "source": [
        "# 1. Problem Statement:\n",
        "# Find all the subsets from a set of numbers whose sum is zero.\n",
        "\n",
        "# Constraint: Subset size must be 5\n",
        "# Set={-12, -3, -6, 7, 2, -2, 6, 3, 9, -7, -5, -8, 1, 11, -9, -4}"
      ]
    },
    {
      "cell_type": "code",
      "source": [
        "# Step 1: Library inclusion                             \n",
        "import random as r\n",
        "\n",
        "\n",
        "# Step 2: Parameter Setting\n",
        "Set         = set([-12, -3, -6, 7, 2, -2, 6, 3, 9, -7, -5, -8, 1, 11, -9, -4])\n",
        "SetSize     = 5\n",
        "ResultList  = set()    \n",
        "Iterations  = 1000   \n",
        "\n",
        "\n",
        "# Step3: Start Program\n",
        "\n",
        "for i in range(Iterations):\n",
        "    Chromosome = r.sample(Set,SetSize)\n",
        "    Chromosome.sort()\n",
        "    if sum(Chromosome) == 0:\n",
        "        ResultList.add(tuple(Chromosome))\n",
        "for r in ResultList:\n",
        "\tprint (r)\n",
        "\n",
        "print (\"\\nTotal Sets: \", len(ResultList))"
      ],
      "metadata": {
        "colab": {
          "base_uri": "https://localhost:8080/"
        },
        "id": "qJaNhXDYevhz",
        "outputId": "55a015ce-5b09-42b6-fc93-2861d329a283"
      },
      "execution_count": 2,
      "outputs": [
        {
          "output_type": "stream",
          "name": "stdout",
          "text": [
            "(-12, -6, -2, 9, 11)\n",
            "(-7, -4, -3, 3, 11)\n",
            "(-9, -7, 2, 3, 11)\n",
            "(-12, -5, 1, 7, 9)\n",
            "(-9, -5, 1, 2, 11)\n",
            "(-6, -4, -3, 6, 7)\n",
            "(-8, -6, -2, 7, 9)\n",
            "(-9, -5, -4, 7, 11)\n",
            "(-12, -4, 2, 3, 11)\n",
            "(-8, -3, -2, 6, 7)\n",
            "(-4, -2, 1, 2, 3)\n",
            "(-8, -4, -2, 3, 11)\n",
            "(-9, -8, 1, 7, 9)\n",
            "(-6, -4, -2, 3, 9)\n",
            "(-12, -8, 3, 6, 11)\n",
            "(-8, -6, 1, 2, 11)\n",
            "(-8, -4, 2, 3, 7)\n",
            "(-9, -6, -2, 6, 11)\n",
            "(-9, -6, 2, 6, 7)\n",
            "(-12, -9, 3, 7, 11)\n",
            "(-12, -7, 1, 7, 11)\n",
            "(-7, -6, -4, 6, 11)\n",
            "(-8, -5, -3, 7, 9)\n",
            "(-8, -6, 2, 3, 9)\n",
            "\n",
            "Total Sets:  24\n"
          ]
        },
        {
          "output_type": "stream",
          "name": "stderr",
          "text": [
            "<ipython-input-2-0edbc5113008>:15: DeprecationWarning: Sampling from a set deprecated\n",
            "since Python 3.9 and will be removed in a subsequent version.\n",
            "  Chromosome = r.sample(Set,SetSize)\n"
          ]
        }
      ]
    },
    {
      "cell_type": "code",
      "source": [
        "\n",
        "# 2. Problem Statement:\n",
        "# Find all the subsets from a set of numbers whose sum is zero.\n",
        "\n",
        "# Constraint: Subset size must be 3 to 6 only\n",
        "# Set={-12, -3, -6, 7, 2, -2, 6, 3, 9, -7, -5, -8, 1, 11, -9, -4}"
      ],
      "metadata": {
        "id": "TBpixybJevkU"
      },
      "execution_count": 3,
      "outputs": []
    },
    {
      "cell_type": "code",
      "source": [
        "# Step 1: Library inclusion                             \n",
        "import random as r\n",
        "\n",
        "\n",
        "# Step 2: Parameter Setting\n",
        "Set         = set([-12, -3, -6, 7, 2, -2, 6, 3, 9, -7, -5, -8, 1, 11, -9, -4])\n",
        "SetLB       = 3\n",
        "SetUB       = 6\n",
        "ResultList  = set()    \n",
        "Iterations  = 1000   \n",
        "\n",
        "\n",
        "# Step3: Start Program\n",
        "\n",
        "for i in range(Iterations):\n",
        "    SetSize = r.randint(SetLB,SetUB)\n",
        "    Chromosome = r.sample(Set,SetSize)\n",
        "    Chromosome.sort()\n",
        "    if sum(Chromosome) == 0:\n",
        "        ResultList.add(tuple(Chromosome))\n",
        "\n",
        "for r in ResultList:\n",
        "\tprint (r)\n",
        "\n",
        "print (\"\\nTotal Sets: \", len(ResultList))"
      ],
      "metadata": {
        "colab": {
          "base_uri": "https://localhost:8080/"
        },
        "id": "4zCxHEIQevnL",
        "outputId": "0cb367ef-8837-4bf6-879e-5bf8e4f1cbf2"
      },
      "execution_count": 4,
      "outputs": [
        {
          "output_type": "stream",
          "name": "stdout",
          "text": [
            "(-12, -3, 2, 6, 7)\n",
            "(-3, -2, 2, 3)\n",
            "(-9, 2, 7)\n",
            "(-9, -3, 3, 9)\n",
            "(-7, -3, 1, 3, 6)\n",
            "(-12, -3, -2, 6, 11)\n",
            "(-6, -2, 1, 7)\n",
            "(-12, 3, 9)\n",
            "(-6, -2, 2, 6)\n",
            "(-4, 1, 3)\n",
            "(-7, -2, 1, 2, 6)\n",
            "(-12, 2, 3, 7)\n",
            "(-7, -3, -2, 1, 2, 9)\n",
            "(-6, -4, -3, 1, 3, 9)\n",
            "(-6, -5, 2, 9)\n",
            "(-8, 2, 6)\n",
            "(-12, -2, 2, 3, 9)\n",
            "(-9, -8, 1, 7, 9)\n",
            "(-5, -2, 7)\n",
            "(-4, -3, -2, 2, 7)\n",
            "(-8, -5, 2, 11)\n",
            "(-5, -4, 9)\n",
            "(-12, -4, 3, 6, 7)\n",
            "(-5, -4, -2, 2, 3, 6)\n",
            "(-7, 1, 6)\n",
            "(-4, -3, 7)\n",
            "(-4, -3, 1, 6)\n",
            "(-8, -3, 11)\n",
            "(-12, -8, -7, 7, 9, 11)\n",
            "(-12, -8, 9, 11)\n",
            "(-3, 1, 2)\n",
            "(-8, -6, -4, 1, 6, 11)\n",
            "\n",
            "Total Sets:  32\n"
          ]
        },
        {
          "output_type": "stream",
          "name": "stderr",
          "text": [
            "<ipython-input-4-8e4d9269e0f7>:17: DeprecationWarning: Sampling from a set deprecated\n",
            "since Python 3.9 and will be removed in a subsequent version.\n",
            "  Chromosome = r.sample(Set,SetSize)\n"
          ]
        }
      ]
    },
    {
      "cell_type": "code",
      "source": [],
      "metadata": {
        "id": "c4RcHrlbevq1"
      },
      "execution_count": 4,
      "outputs": []
    }
  ]
}