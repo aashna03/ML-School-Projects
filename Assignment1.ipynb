{
  "nbformat": 4,
  "nbformat_minor": 0,
  "metadata": {
    "colab": {
      "provenance": [],
      "authorship_tag": "ABX9TyMUfCHBAfW6SeBkX3CEtCiy",
      "include_colab_link": true
    },
    "kernelspec": {
      "name": "python3",
      "display_name": "Python 3"
    },
    "language_info": {
      "name": "python"
    }
  },
  "cells": [
    {
      "cell_type": "markdown",
      "metadata": {
        "id": "view-in-github",
        "colab_type": "text"
      },
      "source": [
        "<a href=\"https://colab.research.google.com/github/aashna03/ML-school-projects/blob/main/Assignment1.ipynb\" target=\"_parent\"><img src=\"https://colab.research.google.com/assets/colab-badge.svg\" alt=\"Open In Colab\"/></a>"
      ]
    },
    {
      "cell_type": "code",
      "execution_count": null,
      "metadata": {
        "id": "WCcRM2KECPhE"
      },
      "outputs": [],
      "source": [
        "#  L is a list defined as L= [11, 12, 13, 14].\n",
        "# (i) WAP to add 50 and 60 to L. \n",
        "# (ii) WAP to remove 11 and 13from L.\n",
        "# (iii) WAP to sort L in ascending order.\n",
        "# (iv) WAP to sort L in descending order.\n",
        "# (v) WAP to search for 13 in L.\n",
        "# (vi) WAP to count the number of elements present in L.\n",
        "# (vii) WAP to sum all the elements in L.\n",
        "# (viii) WAP to sum all ODD numbers in L.\n",
        "# (ix) WAP to sum all EVEN numbers in L.\n",
        "# (x) WAP to sum all PRIME numbers in L.\n",
        "# (xi) WAP to clear all the elements in L.\n",
        "# (xii) WAP to delete L."
      ]
    },
    {
      "cell_type": "code",
      "source": [
        "L = [11, 12, 13, 14]\n",
        "L.append(50)\n",
        "L.append(60)\n",
        "L"
      ],
      "metadata": {
        "colab": {
          "base_uri": "https://localhost:8080/"
        },
        "id": "v0FTHBa6DyFT",
        "outputId": "011b8327-b9d8-4486-f803-14b27194310e"
      },
      "execution_count": null,
      "outputs": [
        {
          "output_type": "execute_result",
          "data": {
            "text/plain": [
              "[11, 12, 13, 14, 50, 60]"
            ]
          },
          "metadata": {},
          "execution_count": 2
        }
      ]
    },
    {
      "cell_type": "code",
      "source": [
        "L.remove(11)\n",
        "L.remove(13)\n",
        "L"
      ],
      "metadata": {
        "colab": {
          "base_uri": "https://localhost:8080/"
        },
        "id": "fZqzRr3uDyHJ",
        "outputId": "a6237075-f8d2-44fa-9507-44d07cf04ef4"
      },
      "execution_count": null,
      "outputs": [
        {
          "output_type": "execute_result",
          "data": {
            "text/plain": [
              "[12, 14, 50, 60]"
            ]
          },
          "metadata": {},
          "execution_count": 3
        }
      ]
    },
    {
      "cell_type": "code",
      "source": [
        "L.sort()\n",
        "L"
      ],
      "metadata": {
        "colab": {
          "base_uri": "https://localhost:8080/"
        },
        "id": "XJjC3rn_DyJd",
        "outputId": "baf8041c-0710-4c2d-af7c-c4e9230074b9"
      },
      "execution_count": null,
      "outputs": [
        {
          "output_type": "execute_result",
          "data": {
            "text/plain": [
              "[12, 14, 50, 60]"
            ]
          },
          "metadata": {},
          "execution_count": 4
        }
      ]
    },
    {
      "cell_type": "code",
      "source": [
        "L.sort(reverse = True)\n",
        "L"
      ],
      "metadata": {
        "colab": {
          "base_uri": "https://localhost:8080/"
        },
        "id": "Tgmzxg84DyM5",
        "outputId": "fd230dc9-2a51-4b66-a01f-44621cff19f1"
      },
      "execution_count": null,
      "outputs": [
        {
          "output_type": "execute_result",
          "data": {
            "text/plain": [
              "[60, 50, 14, 12]"
            ]
          },
          "metadata": {},
          "execution_count": 5
        }
      ]
    },
    {
      "cell_type": "code",
      "source": [
        "if (13 in L):\n",
        "  print('Present')\n",
        "else:\n",
        "  print(\"Absent\")"
      ],
      "metadata": {
        "colab": {
          "base_uri": "https://localhost:8080/"
        },
        "id": "73FonOa_F1m1",
        "outputId": "90a93153-d75e-464b-86a0-8a8ff6ba7ce4"
      },
      "execution_count": null,
      "outputs": [
        {
          "output_type": "stream",
          "name": "stdout",
          "text": [
            "Absent\n"
          ]
        }
      ]
    },
    {
      "cell_type": "code",
      "source": [
        "len(L)"
      ],
      "metadata": {
        "colab": {
          "base_uri": "https://localhost:8080/"
        },
        "id": "KPzQJx6OF1jd",
        "outputId": "775f701a-06db-42b8-c249-8da6cd2d80c4"
      },
      "execution_count": null,
      "outputs": [
        {
          "output_type": "execute_result",
          "data": {
            "text/plain": [
              "4"
            ]
          },
          "metadata": {},
          "execution_count": 7
        }
      ]
    },
    {
      "cell_type": "code",
      "source": [
        "sum(L)"
      ],
      "metadata": {
        "colab": {
          "base_uri": "https://localhost:8080/"
        },
        "id": "q7AKoLOVF1gv",
        "outputId": "2aedd395-1534-4e7b-8341-f2423bc48a36"
      },
      "execution_count": null,
      "outputs": [
        {
          "output_type": "execute_result",
          "data": {
            "text/plain": [
              "136"
            ]
          },
          "metadata": {},
          "execution_count": 8
        }
      ]
    },
    {
      "cell_type": "code",
      "source": [
        "# odd\n",
        "sum([i for i in L if(i %2 != 0)])"
      ],
      "metadata": {
        "colab": {
          "base_uri": "https://localhost:8080/"
        },
        "id": "9loWHtdFF1em",
        "outputId": "9e64dbd0-63a7-4fc2-a4f3-efe4c3690c95"
      },
      "execution_count": null,
      "outputs": [
        {
          "output_type": "execute_result",
          "data": {
            "text/plain": [
              "0"
            ]
          },
          "metadata": {},
          "execution_count": 9
        }
      ]
    },
    {
      "cell_type": "code",
      "source": [
        "# even\n",
        "sum([i for i in L if(i %2 == 0)])"
      ],
      "metadata": {
        "colab": {
          "base_uri": "https://localhost:8080/"
        },
        "id": "g1uKjhpjHXPR",
        "outputId": "0851b342-c2cf-48d7-d949-e041ac28c57a"
      },
      "execution_count": null,
      "outputs": [
        {
          "output_type": "execute_result",
          "data": {
            "text/plain": [
              "136"
            ]
          },
          "metadata": {},
          "execution_count": 10
        }
      ]
    },
    {
      "cell_type": "code",
      "source": [
        "import math"
      ],
      "metadata": {
        "id": "jg-27_zZIN04"
      },
      "execution_count": null,
      "outputs": []
    },
    {
      "cell_type": "code",
      "source": [
        "def prime_(n):\n",
        "  for i in range(2,n//2+1):\n",
        "    if(n%i == 0):\n",
        "      return 0\n",
        "  return 1\n",
        "sum = 0\n",
        "for i in L:\n",
        "  sum += prime_(i)*i\n",
        "sum\n",
        "\n"
      ],
      "metadata": {
        "colab": {
          "base_uri": "https://localhost:8080/"
        },
        "id": "fJ5SrdG9HhPe",
        "outputId": "5c0c696b-4bf8-421f-fc1d-1da4834353c9"
      },
      "execution_count": null,
      "outputs": [
        {
          "output_type": "execute_result",
          "data": {
            "text/plain": [
              "0"
            ]
          },
          "metadata": {},
          "execution_count": 12
        }
      ]
    },
    {
      "cell_type": "code",
      "source": [
        "L.clear()\n",
        "L"
      ],
      "metadata": {
        "colab": {
          "base_uri": "https://localhost:8080/"
        },
        "id": "DVbCgHANJrI8",
        "outputId": "3d0aa27b-0ec8-469a-96e6-0df05614cae4"
      },
      "execution_count": null,
      "outputs": [
        {
          "output_type": "execute_result",
          "data": {
            "text/plain": [
              "[]"
            ]
          },
          "metadata": {},
          "execution_count": 13
        }
      ]
    },
    {
      "cell_type": "code",
      "source": [
        "del L"
      ],
      "metadata": {
        "id": "2ndVdPJ2JrFl"
      },
      "execution_count": null,
      "outputs": []
    },
    {
      "cell_type": "code",
      "source": [
        "# Q2. D is a dictionary defined as D= {1:5.6, 2:7.8, 3:6.6, 4:8.7, 5:7.7}.\n",
        "# (i) WAP to add new entry in D; key=8 and value is 8.8\n",
        "# (ii) WAP to remove key=2.\n",
        "# (iii) WAP to check weather 6 key is present in D.\n",
        "# (iv) WAP to count the number of elements present in D.\n",
        "# (v) WAP to add all the values present D.\n",
        "# (vi) WAP to update the value of 3 to 7.1.\n",
        "# (vii) WAP to clear the dictionary.\n"
      ],
      "metadata": {
        "id": "MXTK6325JwtU"
      },
      "execution_count": null,
      "outputs": []
    },
    {
      "cell_type": "code",
      "source": [
        "D= {1:5.6, 2:7.8, 3:6.6, 4:8.7, 5:7.7}\n",
        "D"
      ],
      "metadata": {
        "colab": {
          "base_uri": "https://localhost:8080/"
        },
        "id": "fB7ePsI_Jwp-",
        "outputId": "75fb82e5-10a4-40e5-e422-23fc76ab810b"
      },
      "execution_count": null,
      "outputs": [
        {
          "output_type": "execute_result",
          "data": {
            "text/plain": [
              "{1: 5.6, 2: 7.8, 3: 6.6, 4: 8.7, 5: 7.7}"
            ]
          },
          "metadata": {},
          "execution_count": 16
        }
      ]
    },
    {
      "cell_type": "code",
      "source": [
        "D[8] = 8.8\n",
        "D"
      ],
      "metadata": {
        "colab": {
          "base_uri": "https://localhost:8080/"
        },
        "id": "nFDHn5vHJwnh",
        "outputId": "4e1e8321-4f6d-4098-c4da-a45b95d0bfbf"
      },
      "execution_count": null,
      "outputs": [
        {
          "output_type": "execute_result",
          "data": {
            "text/plain": [
              "{1: 5.6, 2: 7.8, 3: 6.6, 4: 8.7, 5: 7.7, 8: 8.8}"
            ]
          },
          "metadata": {},
          "execution_count": 17
        }
      ]
    },
    {
      "cell_type": "code",
      "source": [
        "del D[2]\n",
        "D"
      ],
      "metadata": {
        "colab": {
          "base_uri": "https://localhost:8080/"
        },
        "id": "DUet8foLJwke",
        "outputId": "b50f595f-44f8-4e1a-e191-7a195286f58f"
      },
      "execution_count": null,
      "outputs": [
        {
          "output_type": "execute_result",
          "data": {
            "text/plain": [
              "{1: 5.6, 3: 6.6, 4: 8.7, 5: 7.7, 8: 8.8}"
            ]
          },
          "metadata": {},
          "execution_count": 18
        }
      ]
    },
    {
      "cell_type": "code",
      "source": [
        "if 6 in D:\n",
        "  print('Present')\n",
        "else:\n",
        "  print('Absent')"
      ],
      "metadata": {
        "colab": {
          "base_uri": "https://localhost:8080/"
        },
        "id": "qZeOkWSTKNao",
        "outputId": "faf39b17-87d9-4805-a36b-60c52c1bcf98"
      },
      "execution_count": null,
      "outputs": [
        {
          "output_type": "stream",
          "name": "stdout",
          "text": [
            "Absent\n"
          ]
        }
      ]
    },
    {
      "cell_type": "code",
      "source": [
        "len(D)"
      ],
      "metadata": {
        "colab": {
          "base_uri": "https://localhost:8080/"
        },
        "id": "X4XRtkiHKNXR",
        "outputId": "23f756d1-d36e-45cb-b71c-27df8640989a"
      },
      "execution_count": null,
      "outputs": [
        {
          "output_type": "execute_result",
          "data": {
            "text/plain": [
              "5"
            ]
          },
          "metadata": {},
          "execution_count": 20
        }
      ]
    },
    {
      "cell_type": "code",
      "source": [
        "del sum"
      ],
      "metadata": {
        "id": "a2BOOuxsLGlJ"
      },
      "execution_count": null,
      "outputs": []
    },
    {
      "cell_type": "code",
      "source": [
        "sum(D.values())"
      ],
      "metadata": {
        "colab": {
          "base_uri": "https://localhost:8080/"
        },
        "id": "ZbOVOsCMK2HZ",
        "outputId": "f9b960ac-19ab-44bd-91fb-ab574007555e"
      },
      "execution_count": null,
      "outputs": [
        {
          "output_type": "execute_result",
          "data": {
            "text/plain": [
              "37.4"
            ]
          },
          "metadata": {},
          "execution_count": 22
        }
      ]
    },
    {
      "cell_type": "code",
      "source": [
        "D[3] = 7.1\n",
        "D"
      ],
      "metadata": {
        "colab": {
          "base_uri": "https://localhost:8080/"
        },
        "id": "Cw4D61-zLJoN",
        "outputId": "7420feae-e0f9-4c89-8a53-918de0954c5f"
      },
      "execution_count": null,
      "outputs": [
        {
          "output_type": "execute_result",
          "data": {
            "text/plain": [
              "{1: 5.6, 3: 7.1, 4: 8.7, 5: 7.7, 8: 8.8}"
            ]
          },
          "metadata": {},
          "execution_count": 23
        }
      ]
    },
    {
      "cell_type": "code",
      "source": [
        "D.clear()\n",
        "D"
      ],
      "metadata": {
        "colab": {
          "base_uri": "https://localhost:8080/"
        },
        "id": "rBP9mvuWLWOS",
        "outputId": "433771ee-7274-46c3-b6e1-424ab4bed096"
      },
      "execution_count": null,
      "outputs": [
        {
          "output_type": "execute_result",
          "data": {
            "text/plain": [
              "{}"
            ]
          },
          "metadata": {},
          "execution_count": 24
        }
      ]
    },
    {
      "cell_type": "code",
      "source": [
        "# Q3. S1 is a set defined as S1= [10, 20, 30, 40, 50, 60].\n",
        "#  S2 is a set defined as S2= [40, 50, 60, 70, 80, 90].\n",
        "# (i) WAP to add 55 and 66 in Set S1.\n",
        "# (ii) WAP to remove 10 and 30 from Set S1.\n",
        "# (iii) WAP to check whether 40 is present in S1.\n",
        "# (iv) WAP to find the union between S1 and S2.\n",
        "# (v) WAP to find the intersection between S1 and S2.\n",
        "# (vi) WAP to find the S1 - S2."
      ],
      "metadata": {
        "id": "q43ZPwQjLWK1"
      },
      "execution_count": null,
      "outputs": []
    },
    {
      "cell_type": "code",
      "source": [
        "S1= set([10, 20, 30, 40, 50, 60])\n",
        "S2= set([40, 50, 60, 70, 80, 90])\n",
        "S1"
      ],
      "metadata": {
        "colab": {
          "base_uri": "https://localhost:8080/"
        },
        "id": "1Cx2F2tCLWI3",
        "outputId": "f1bdb786-e0a7-480d-9f5c-8e5a1c143fc6"
      },
      "execution_count": null,
      "outputs": [
        {
          "output_type": "execute_result",
          "data": {
            "text/plain": [
              "{10, 20, 30, 40, 50, 60}"
            ]
          },
          "metadata": {},
          "execution_count": 26
        }
      ]
    },
    {
      "cell_type": "code",
      "source": [
        "S1.add(55)\n",
        "S1.add(66)\n",
        "S1"
      ],
      "metadata": {
        "colab": {
          "base_uri": "https://localhost:8080/"
        },
        "id": "9ulUZf9SLgwy",
        "outputId": "bf103ed4-c4a9-4136-bcb6-9b8eedb6d869"
      },
      "execution_count": null,
      "outputs": [
        {
          "output_type": "execute_result",
          "data": {
            "text/plain": [
              "{10, 20, 30, 40, 50, 55, 60, 66}"
            ]
          },
          "metadata": {},
          "execution_count": 27
        }
      ]
    },
    {
      "cell_type": "code",
      "source": [
        "S1.remove(10)\n",
        "S1.remove(30)\n",
        "S1"
      ],
      "metadata": {
        "colab": {
          "base_uri": "https://localhost:8080/"
        },
        "id": "sNerbTWhLgyj",
        "outputId": "3de63f42-d376-4720-ba5a-57a8217675f0"
      },
      "execution_count": null,
      "outputs": [
        {
          "output_type": "execute_result",
          "data": {
            "text/plain": [
              "{20, 40, 50, 55, 60, 66}"
            ]
          },
          "metadata": {},
          "execution_count": 28
        }
      ]
    },
    {
      "cell_type": "code",
      "source": [
        "if 40 in S1:\n",
        "  print(\"present\")\n",
        "else:\n",
        "  print(\"Absent\")"
      ],
      "metadata": {
        "colab": {
          "base_uri": "https://localhost:8080/"
        },
        "id": "z6cCnYXcLg2B",
        "outputId": "0e9769bb-fc1f-43c2-a1f1-5d9a86b4fae7"
      },
      "execution_count": null,
      "outputs": [
        {
          "output_type": "stream",
          "name": "stdout",
          "text": [
            "present\n"
          ]
        }
      ]
    },
    {
      "cell_type": "code",
      "source": [
        "S1.union(S2)"
      ],
      "metadata": {
        "colab": {
          "base_uri": "https://localhost:8080/"
        },
        "id": "2DPG7lbnLhXI",
        "outputId": "0d15819b-1955-42b6-94af-1dd0ec51491b"
      },
      "execution_count": null,
      "outputs": [
        {
          "output_type": "execute_result",
          "data": {
            "text/plain": [
              "{20, 40, 50, 55, 60, 66, 70, 80, 90}"
            ]
          },
          "metadata": {},
          "execution_count": 30
        }
      ]
    },
    {
      "cell_type": "code",
      "source": [
        "S1.intersection(S2)"
      ],
      "metadata": {
        "colab": {
          "base_uri": "https://localhost:8080/"
        },
        "id": "wH-cKdltLhaw",
        "outputId": "af65c226-9dd5-4cee-f805-a2e460e65e2c"
      },
      "execution_count": null,
      "outputs": [
        {
          "output_type": "execute_result",
          "data": {
            "text/plain": [
              "{40, 50, 60}"
            ]
          },
          "metadata": {},
          "execution_count": 31
        }
      ]
    },
    {
      "cell_type": "code",
      "source": [
        "S1-S2"
      ],
      "metadata": {
        "colab": {
          "base_uri": "https://localhost:8080/"
        },
        "id": "zGk5oI-4Mhpd",
        "outputId": "da90ca9c-e98d-4fbe-d30b-00f1da91a16e"
      },
      "execution_count": null,
      "outputs": [
        {
          "output_type": "execute_result",
          "data": {
            "text/plain": [
              "{20, 55, 66}"
            ]
          },
          "metadata": {},
          "execution_count": 32
        }
      ]
    },
    {
      "cell_type": "code",
      "source": [
        "# 4. Write the following program.\n",
        "# (i) WAP to print 100 random strings whose length between 6 and 8.\n",
        "# (ii) WAP to print all prime numbers between 600 and 800.\n",
        "# (iii) WAP to print all numbers between 100 and 1000 that are divisible by 7 and 9."
      ],
      "metadata": {
        "id": "v-pbEzsAMrSl"
      },
      "execution_count": null,
      "outputs": []
    },
    {
      "cell_type": "code",
      "source": [
        "import string as s\n",
        "import random as r\n",
        "\n",
        "for i in range(0,100):\n",
        "  print(\"\".join(r.sample(s.ascii_letters, r.randint(6, 8))))"
      ],
      "metadata": {
        "colab": {
          "base_uri": "https://localhost:8080/"
        },
        "id": "OElNLtyMMski",
        "outputId": "7f25334d-2763-4610-c51c-58e26b9973d6"
      },
      "execution_count": null,
      "outputs": [
        {
          "output_type": "stream",
          "name": "stdout",
          "text": [
            "XKTMSNH\n",
            "YBRKcgWw\n",
            "OKcPfG\n",
            "fIWBSup\n",
            "kqYMuBy\n",
            "Sjekpgnq\n",
            "DwCZqbi\n",
            "wMqVRsde\n",
            "rzOIMXnj\n",
            "VDFtgWx\n",
            "xCXupLWA\n",
            "luVEBM\n",
            "LWSDznR\n",
            "CAkLeUxb\n",
            "RcSzia\n",
            "NCcrayuI\n",
            "GPqRIrUB\n",
            "xVfQAy\n",
            "siYQhV\n",
            "VwqoysJQ\n",
            "hvUCTw\n",
            "VoNJhdOu\n",
            "zmVjRYt\n",
            "EgneiaG\n",
            "BFJWviOj\n",
            "xanNhGy\n",
            "zUKRhLDe\n",
            "nzadEwsX\n",
            "tOcLmdY\n",
            "OhVHiQX\n",
            "OGJMVrt\n",
            "yAdRQCw\n",
            "UQADMtrH\n",
            "fRShtXq\n",
            "KSdMlrjE\n",
            "CPpTXl\n",
            "VoQzwhXD\n",
            "naOyWsBq\n",
            "caXoYve\n",
            "EbOCcXz\n",
            "dQBUFj\n",
            "qXeVog\n",
            "GAhgYy\n",
            "bfWivY\n",
            "tvzbEq\n",
            "WMKOFb\n",
            "YekQNFgu\n",
            "oLgVOA\n",
            "ySIEmNk\n",
            "RWOyGvHh\n",
            "IXVSLDc\n",
            "oYsUQWyV\n",
            "JVqglLBd\n",
            "XchwWGtj\n",
            "PscbdGif\n",
            "CfXOwtyu\n",
            "UmjZOwp\n",
            "WyrcRt\n",
            "upAMaT\n",
            "whRmdUe\n",
            "JPgVnI\n",
            "JpZsvkb\n",
            "GfnYpxF\n",
            "NGQmleO\n",
            "dUOWhfAl\n",
            "opIgzqB\n",
            "jVWevNxs\n",
            "emHokrLM\n",
            "gFkIYU\n",
            "FrGtnRcZ\n",
            "vQAyXn\n",
            "ORrFzZ\n",
            "uDWikPz\n",
            "vesDJyY\n",
            "cnQZAw\n",
            "RaXhMTC\n",
            "ndjYFBTW\n",
            "RtlNpM\n",
            "brMhlV\n",
            "zCgZsa\n",
            "hPlzKUL\n",
            "apUWlSEZ\n",
            "vgXOSUKJ\n",
            "CgixrZUP\n",
            "HmCeKi\n",
            "NQPyYZw\n",
            "MphjwHTW\n",
            "ZqhTeCr\n",
            "BFRHrjk\n",
            "vmWxQRPD\n",
            "pKIfoCVX\n",
            "xIsWkGyP\n",
            "fgZenhC\n",
            "tCXwWq\n",
            "fAeNFM\n",
            "DvguCxd\n",
            "umVKSPpW\n",
            "VAhGqPD\n",
            "LnBQklw\n",
            "kWZudzDA\n"
          ]
        }
      ]
    },
    {
      "cell_type": "code",
      "source": [
        "def prime_(n):\n",
        "  for i in range(2,n//2+1):\n",
        "    if(n%i == 0):\n",
        "      return False\n",
        "  return True\n",
        "\n",
        "for i in range(600,800):\n",
        "  if(prime_(i)):\n",
        "    print(i, end = \" \")"
      ],
      "metadata": {
        "colab": {
          "base_uri": "https://localhost:8080/"
        },
        "id": "3D0YsEX3Msmd",
        "outputId": "67e301e6-a286-409d-fa12-789f774994d2"
      },
      "execution_count": null,
      "outputs": [
        {
          "output_type": "stream",
          "name": "stdout",
          "text": [
            "601 607 613 617 619 631 641 643 647 653 659 661 673 677 683 691 701 709 719 727 733 739 743 751 757 761 769 773 787 797 "
          ]
        }
      ]
    },
    {
      "cell_type": "code",
      "source": [
        "for i in range(100,1000):\n",
        "  if(i%(7*9) == 0):\n",
        "    print(i, end=\" \")"
      ],
      "metadata": {
        "colab": {
          "base_uri": "https://localhost:8080/"
        },
        "id": "-bdJQPIMMso2",
        "outputId": "5762e471-2e6d-4ea7-cd42-68489481a165"
      },
      "execution_count": null,
      "outputs": [
        {
          "output_type": "stream",
          "name": "stdout",
          "text": [
            "126 189 252 315 378 441 504 567 630 693 756 819 882 945 "
          ]
        }
      ]
    },
    {
      "cell_type": "code",
      "source": [
        "# Q5. WAP to create two lists of 10 random numbers between 10 and 30; Find \n",
        "# (i) Common numbers in the two lists\n",
        "# (ii) Unique numbers in both the list\n",
        "# (iii) Minimum in both the list\n",
        "# (iv) Maximum in both the list\n",
        "# (v) Sum of both the lists"
      ],
      "metadata": {
        "id": "d8JnpGSmMssS"
      },
      "execution_count": null,
      "outputs": []
    },
    {
      "cell_type": "code",
      "source": [
        "L1 = []\n",
        "L2 = []\n",
        "for i in range(0,10):\n",
        "  L1.append(r.randint(10, 30))\n",
        "  L2.append(r.randint(10, 30))\n",
        "print(L1)\n",
        "print(L2)"
      ],
      "metadata": {
        "colab": {
          "base_uri": "https://localhost:8080/"
        },
        "id": "mG6zBaDvPRxW",
        "outputId": "c1aee72b-bfa6-4a3d-f598-3035b15aa1ba"
      },
      "execution_count": null,
      "outputs": [
        {
          "output_type": "stream",
          "name": "stdout",
          "text": [
            "[22, 21, 13, 27, 23, 26, 17, 13, 12, 18]\n",
            "[25, 24, 30, 19, 19, 17, 14, 26, 20, 14]\n"
          ]
        }
      ]
    },
    {
      "cell_type": "code",
      "source": [
        "set(L1).intersection(set(L2))"
      ],
      "metadata": {
        "colab": {
          "base_uri": "https://localhost:8080/"
        },
        "id": "zqLhLxIxPRzj",
        "outputId": "5a0d400e-e849-4bb0-c97f-4f8f654a36b0"
      },
      "execution_count": null,
      "outputs": [
        {
          "output_type": "execute_result",
          "data": {
            "text/plain": [
              "{17, 26}"
            ]
          },
          "metadata": {},
          "execution_count": 39
        }
      ]
    },
    {
      "cell_type": "code",
      "source": [
        "print(set(L1))"
      ],
      "metadata": {
        "colab": {
          "base_uri": "https://localhost:8080/"
        },
        "id": "-XJP5s31PR2H",
        "outputId": "5ce5c79e-bab5-406c-98de-c2472940b598"
      },
      "execution_count": null,
      "outputs": [
        {
          "output_type": "stream",
          "name": "stdout",
          "text": [
            "{12, 13, 17, 18, 21, 22, 23, 26, 27}\n"
          ]
        }
      ]
    },
    {
      "cell_type": "code",
      "source": [
        "print(set(L2))"
      ],
      "metadata": {
        "colab": {
          "base_uri": "https://localhost:8080/"
        },
        "id": "n2agiqYuPR5R",
        "outputId": "c78a47e6-3274-4b16-d73d-eb51880a65a3"
      },
      "execution_count": null,
      "outputs": [
        {
          "output_type": "stream",
          "name": "stdout",
          "text": [
            "{14, 17, 19, 20, 24, 25, 26, 30}\n"
          ]
        }
      ]
    },
    {
      "cell_type": "code",
      "source": [
        "min([min(L1), min(L2)])"
      ],
      "metadata": {
        "colab": {
          "base_uri": "https://localhost:8080/"
        },
        "id": "Jcme5dWi5dh4",
        "outputId": "c6592661-e416-45f1-9742-610a148abde6"
      },
      "execution_count": null,
      "outputs": [
        {
          "output_type": "execute_result",
          "data": {
            "text/plain": [
              "12"
            ]
          },
          "metadata": {},
          "execution_count": 43
        }
      ]
    },
    {
      "cell_type": "code",
      "source": [
        "max([max(L1), max(L2)])"
      ],
      "metadata": {
        "colab": {
          "base_uri": "https://localhost:8080/"
        },
        "id": "fWNbuB8I5h8z",
        "outputId": "001478f1-5a6a-4dbf-a064-aed3ecaa1e4e"
      },
      "execution_count": null,
      "outputs": [
        {
          "output_type": "execute_result",
          "data": {
            "text/plain": [
              "30"
            ]
          },
          "metadata": {},
          "execution_count": 44
        }
      ]
    },
    {
      "cell_type": "code",
      "source": [
        "sum(L1)+sum(L2)"
      ],
      "metadata": {
        "colab": {
          "base_uri": "https://localhost:8080/"
        },
        "id": "V1vcKeG35h5R",
        "outputId": "3eef5514-3c5f-4c57-ad1f-7184a47c2267"
      },
      "execution_count": null,
      "outputs": [
        {
          "output_type": "execute_result",
          "data": {
            "text/plain": [
              "400"
            ]
          },
          "metadata": {},
          "execution_count": 45
        }
      ]
    },
    {
      "cell_type": "code",
      "source": [
        "# 6. WAP to create a list of 100 random numbers between 100 and 900. Count and print the: \n",
        "# (i) All odd numbers\n",
        "# (ii) All even numbers\n",
        "# (iii) All prime numbers\n"
      ],
      "metadata": {
        "id": "Ar8KUiPv5-oz"
      },
      "execution_count": null,
      "outputs": []
    },
    {
      "cell_type": "code",
      "source": [
        "L = []\n",
        "for i in range(0,100):\n",
        "  L.append(r.randint(100, 900))\n",
        "print(L)"
      ],
      "metadata": {
        "colab": {
          "base_uri": "https://localhost:8080/"
        },
        "id": "4v1DNfxL5-q2",
        "outputId": "bab221bf-f9ea-4b1d-b557-f3b2080d14a7"
      },
      "execution_count": null,
      "outputs": [
        {
          "output_type": "stream",
          "name": "stdout",
          "text": [
            "[240, 592, 600, 629, 461, 894, 123, 202, 637, 365, 550, 181, 499, 101, 258, 220, 687, 659, 291, 690, 327, 319, 119, 416, 741, 557, 271, 434, 292, 572, 652, 434, 286, 443, 626, 257, 324, 452, 704, 737, 578, 810, 714, 829, 300, 676, 347, 333, 404, 103, 352, 373, 645, 862, 808, 406, 249, 124, 150, 748, 537, 208, 196, 407, 618, 827, 492, 189, 386, 499, 895, 138, 315, 660, 419, 407, 524, 811, 786, 778, 220, 346, 294, 865, 100, 832, 588, 590, 780, 520, 282, 896, 303, 511, 481, 613, 298, 692, 430, 531]\n"
          ]
        }
      ]
    },
    {
      "cell_type": "code",
      "source": [
        "count = 0\n",
        "for i in L:\n",
        "  if(i%2 != 0):\n",
        "    count += 1\n",
        "    print(i, end = \" \")\n",
        "print(\"\\n\", count)"
      ],
      "metadata": {
        "colab": {
          "base_uri": "https://localhost:8080/"
        },
        "id": "fMhabSMB5-s8",
        "outputId": "d632da19-46e6-4d7c-e2ed-006028f80d25"
      },
      "execution_count": null,
      "outputs": [
        {
          "output_type": "stream",
          "name": "stdout",
          "text": [
            "629 461 123 637 365 181 499 101 687 659 291 327 319 119 741 557 271 443 257 737 829 347 333 103 373 645 249 537 407 827 189 499 895 315 419 407 811 865 303 511 481 613 531 \n",
            " 43\n"
          ]
        }
      ]
    },
    {
      "cell_type": "code",
      "source": [
        "count = 0\n",
        "for i in L:\n",
        "  if(i%2 == 0):\n",
        "    count += 1\n",
        "    print(i, end = \" \")\n",
        "print(\"\\n\", count)"
      ],
      "metadata": {
        "colab": {
          "base_uri": "https://localhost:8080/"
        },
        "id": "0yG0iw775-va",
        "outputId": "e2bf1f85-c03d-4ab1-82b0-dd59de9ffa9e"
      },
      "execution_count": null,
      "outputs": [
        {
          "output_type": "stream",
          "name": "stdout",
          "text": [
            "240 592 600 894 202 550 258 220 690 416 434 292 572 652 434 286 626 324 452 704 578 810 714 300 676 404 352 862 808 406 124 150 748 208 196 618 492 386 138 660 524 786 778 220 346 294 100 832 588 590 780 520 282 896 298 692 430 \n",
            " 57\n"
          ]
        }
      ]
    },
    {
      "cell_type": "code",
      "source": [
        "def prime_(n):\n",
        "  for i in range(2,n//2+1):\n",
        "    if(n%i == 0):\n",
        "      return False\n",
        "  return True\n",
        "\n",
        "count = 0\n",
        "for i in L:\n",
        "  if(prime_(i)):\n",
        "    print(i, end = \" \")"
      ],
      "metadata": {
        "colab": {
          "base_uri": "https://localhost:8080/"
        },
        "id": "ILNtfuVX5-yv",
        "outputId": "e6fee871-a361-470f-8abb-08f9d1c923f0"
      },
      "execution_count": null,
      "outputs": [
        {
          "output_type": "stream",
          "name": "stdout",
          "text": [
            "461 181 499 101 659 557 271 443 257 829 347 103 373 827 499 419 811 613 "
          ]
        }
      ]
    },
    {
      "cell_type": "code",
      "source": [
        "# Q7. D is a dictionary defined as D={1:\"One\",2:\"Two\",3:\"Three\",4:\"Four\", 5:\"Five\"}. \n",
        "#  WAP to read all the keys and values from dictionary and write to the file in the given below format.\n",
        "# Key1, Value1\n",
        "# Key2, Value2\n",
        "# Key3, Value3\n"
      ],
      "metadata": {
        "id": "bxZ7HH5r7gWF"
      },
      "execution_count": null,
      "outputs": []
    },
    {
      "cell_type": "code",
      "source": [
        " D={1:\"One\",2:\"Two\",3:\"Three\",4:\"Four\", 5:\"Five\"}"
      ],
      "metadata": {
        "id": "7WtVXIvn7l4_"
      },
      "execution_count": null,
      "outputs": []
    },
    {
      "cell_type": "code",
      "source": [
        "fp=open('dict.txt','w')\t# Open the file in writing mode\n",
        "for  i in D:\n",
        "  fp.write(str(i)+\", \"+ str(D[i])+\"\\n\")\n",
        "fp.close()\n",
        "\n",
        "print (\"Done\")"
      ],
      "metadata": {
        "colab": {
          "base_uri": "https://localhost:8080/"
        },
        "id": "vW5nwj787l7G",
        "outputId": "00e2acdf-e92c-423a-c2b0-5b90fb667dbb"
      },
      "execution_count": null,
      "outputs": [
        {
          "output_type": "stream",
          "name": "stdout",
          "text": [
            "Done\n"
          ]
        }
      ]
    },
    {
      "cell_type": "code",
      "source": [
        "# Q8. L is a list defined as L={\"One\",\"Two\",\"Three\",\"Four\",\"Five\"}.\n",
        "#  WAP to count the length of reach element from a list and write to the file in the given below format:\n",
        "# One, 3\n",
        "# Two, 3\n",
        "# Four, 4"
      ],
      "metadata": {
        "id": "vfFjVQGX7l-r"
      },
      "execution_count": null,
      "outputs": []
    },
    {
      "cell_type": "code",
      "source": [
        "L={\"One\",\"Two\",\"Three\",\"Four\",\"Five\"}"
      ],
      "metadata": {
        "id": "Ia2RE-EM9F6Z"
      },
      "execution_count": null,
      "outputs": []
    },
    {
      "cell_type": "code",
      "source": [
        "fp=open('ls.txt','w')\t# Open the file in writing mode\n",
        "for  i in L:\n",
        "  fp.write(str(i)+\", \"+ str(len(i))+\"\\n\")\n",
        "fp.close()\n",
        "\n",
        "print (\"Done\")"
      ],
      "metadata": {
        "colab": {
          "base_uri": "https://localhost:8080/"
        },
        "id": "_60IjOTx9F86",
        "outputId": "0a86293c-2784-4d4f-a5a8-926e84386fb7"
      },
      "execution_count": null,
      "outputs": [
        {
          "output_type": "stream",
          "name": "stdout",
          "text": [
            "Done\n"
          ]
        }
      ]
    },
    {
      "cell_type": "code",
      "source": [
        "# 9. Write to the file 100 random strings whose length between 10 and 15."
      ],
      "metadata": {
        "id": "_Hk3X8TC9GBG"
      },
      "execution_count": null,
      "outputs": []
    },
    {
      "cell_type": "code",
      "source": [
        "fp=open('random.txt','w')\t# Open the file in writing mode\n",
        "for  i in range(0,100):\n",
        "  fp.write(\"\".join(r.sample(s.ascii_letters, r.randint(10, 15)))+\"\\n\")\n",
        "fp.close()\n",
        "\n",
        "print (\"Done\")"
      ],
      "metadata": {
        "colab": {
          "base_uri": "https://localhost:8080/"
        },
        "id": "FCzoo-hn9GEd",
        "outputId": "1bbcd0e2-ec96-4cc9-86b3-39cfa4f86198"
      },
      "execution_count": null,
      "outputs": [
        {
          "output_type": "stream",
          "name": "stdout",
          "text": [
            "Done\n"
          ]
        }
      ]
    },
    {
      "cell_type": "code",
      "source": [
        "# 10. Write to the file all prime numbers between 600 and 800.\n"
      ],
      "metadata": {
        "id": "L_a-UWBq9-AZ"
      },
      "execution_count": null,
      "outputs": []
    },
    {
      "cell_type": "code",
      "source": [
        "def prime_(n):\n",
        "  for i in range(2,n//2+1):\n",
        "    if(n%i == 0):\n",
        "      return False\n",
        "  return True\n",
        "\n",
        "fp=open('random.txt','w')\t# Open the file in writing mode\n",
        "for  i in range(600,801):\n",
        "  if(prime_(i)):\n",
        "    fp.write(str(i)+\"\\n\")\n",
        "fp.close()\n",
        "\n",
        "print (\"Done\")"
      ],
      "metadata": {
        "colab": {
          "base_uri": "https://localhost:8080/"
        },
        "id": "DPF3B0F-9_xA",
        "outputId": "0d5e352d-ebfb-4cfa-b7f7-e71a1f11accd"
      },
      "execution_count": null,
      "outputs": [
        {
          "output_type": "stream",
          "name": "stdout",
          "text": [
            "Done\n"
          ]
        }
      ]
    },
    {
      "cell_type": "code",
      "source": [
        "# 11. WAP to calculate the time taken by a program."
      ],
      "metadata": {
        "id": "iam1zaMu-s4D"
      },
      "execution_count": null,
      "outputs": []
    },
    {
      "cell_type": "code",
      "source": [
        "import time\n",
        "\n",
        "start = time.time()\n",
        "\n",
        "def prime_(n):\n",
        "  for i in range(2,n//2+1):\n",
        "    if(n%i == 0):\n",
        "      return False\n",
        "  return True\n",
        "\n",
        "for i in range(600,800):\n",
        "  if(prime_(i)):\n",
        "    print(i, end = \" \")\n",
        "\n",
        "end = time.time()"
      ],
      "metadata": {
        "colab": {
          "base_uri": "https://localhost:8080/"
        },
        "id": "O2CIacbu-s6B",
        "outputId": "ccaa60a9-f758-43f4-9ab4-75e6571b2917"
      },
      "execution_count": null,
      "outputs": [
        {
          "output_type": "stream",
          "name": "stdout",
          "text": [
            "601 607 613 617 619 631 641 643 647 653 659 661 673 677 683 691 701 709 719 727 733 739 743 751 757 761 769 773 787 797 "
          ]
        }
      ]
    },
    {
      "cell_type": "code",
      "source": [
        "\n",
        "print(end - start)"
      ],
      "metadata": {
        "colab": {
          "base_uri": "https://localhost:8080/"
        },
        "id": "AsTnA4TO-s7p",
        "outputId": "8d1454b9-ec15-4402-9e21-4bfae20e3dd7"
      },
      "execution_count": null,
      "outputs": [
        {
          "output_type": "stream",
          "name": "stdout",
          "text": [
            "0.01418757438659668\n"
          ]
        }
      ]
    },
    {
      "cell_type": "code",
      "source": [
        "# Q12. WAP to sort following number of elements in a list, calculate time taken and plot the graph."
      ],
      "metadata": {
        "id": "OyQISw88-s9a"
      },
      "execution_count": null,
      "outputs": []
    },
    {
      "cell_type": "code",
      "source": [
        "count_el = list(range(5000, 30000, 5000))\n",
        "total = []\n",
        "\n",
        "for j in count_el:\n",
        "  L1 = []\n",
        "  for i in range(0,j):\n",
        "    L1.append(r.randint(100, 900))\n",
        "  start = time.time()\n",
        "  L1.sort()\n",
        "  total.append(time.time() - start)\n",
        "  "
      ],
      "metadata": {
        "id": "vB-Ut4bu-tBA"
      },
      "execution_count": null,
      "outputs": []
    },
    {
      "cell_type": "code",
      "source": [
        "print(count_el)\n",
        "print(total)"
      ],
      "metadata": {
        "colab": {
          "base_uri": "https://localhost:8080/"
        },
        "id": "zG5OimrnBtJi",
        "outputId": "5c875b98-c62b-4b01-ec62-360eb7a2024a"
      },
      "execution_count": null,
      "outputs": [
        {
          "output_type": "stream",
          "name": "stdout",
          "text": [
            "[5000, 10000, 15000, 20000, 25000]\n",
            "[0.0007007122039794922, 0.0014307498931884766, 0.0022170543670654297, 0.003022432327270508, 0.003942966461181641]\n"
          ]
        }
      ]
    },
    {
      "cell_type": "code",
      "source": [
        "import matplotlib.pyplot as plt\n",
        " \n",
        "plt.plot(total, count_el)\n",
        "  \n",
        "plt.xlabel('time')\n",
        "plt.ylabel('count')\n",
        "plt.title('element count vs time to sort')\n",
        "plt.show()"
      ],
      "metadata": {
        "colab": {
          "base_uri": "https://localhost:8080/",
          "height": 472
        },
        "id": "JKH7bTvaD799",
        "outputId": "f54d1aa2-c8b2-4748-957c-82b73f1d3c7e"
      },
      "execution_count": null,
      "outputs": [
        {
          "output_type": "display_data",
          "data": {
            "text/plain": [
              "<Figure size 640x480 with 1 Axes>"
            ],
            "image/png": "[encoded data removed]"
          },
          "metadata": {}
        }
      ]
    },
    {
      "cell_type": "code",
      "source": [
        "# Q13. WAP to create a dictionary of student marks in five subjects and you have to find the student \n",
        "#  having maximum and minimum average marks."
      ],
      "metadata": {
        "id": "o9E9rph-EU2j"
      },
      "execution_count": null,
      "outputs": []
    },
    {
      "cell_type": "code",
      "source": [
        "# del sum\n",
        "del count"
      ],
      "metadata": {
        "id": "n5_o7Kt0FuhG"
      },
      "execution_count": null,
      "outputs": []
    },
    {
      "cell_type": "code",
      "source": [
        "marks = {\n",
        "    'a': [80, 75, 90, 85, 95],\n",
        "    'b': [60, 85, 80, 95, 70],\n",
        "    'c': [75, 80, 85, 95, 95],\n",
        "    'd': [95, 90, 85, 80, 75]\n",
        "}\n",
        "\n",
        "max = float('-inf')\n",
        "min = float('inf')\n",
        "min_st = \"\"\n",
        "max_st = \"\"\n",
        "\n",
        "for i in marks:\n",
        "  avrg = sum(marks[i])/len(marks[i])\n",
        "  if(min > avrg):\n",
        "    min = avrg\n",
        "    min_st = i\n",
        "  if(max < avrg):\n",
        "    max = avrg\n",
        "    max_st = i\n",
        "\n",
        "print(\"student having minimum average\", min_st)\n",
        "print(\"student having maximum average\", max_st)\n",
        "\n",
        "\n"
      ],
      "metadata": {
        "colab": {
          "base_uri": "https://localhost:8080/"
        },
        "id": "vRAXLQLsEYCX",
        "outputId": "03cf76f4-937c-464d-cce9-63346f484071"
      },
      "execution_count": null,
      "outputs": [
        {
          "output_type": "stream",
          "name": "stdout",
          "text": [
            "student having minimum average b\n",
            "student having maximum average c\n"
          ]
        }
      ]
    }
  ]
}